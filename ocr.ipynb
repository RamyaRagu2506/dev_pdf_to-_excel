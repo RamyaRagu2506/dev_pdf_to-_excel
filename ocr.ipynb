{
 "cells": [
  {
   "cell_type": "code",
   "execution_count": 1,
   "metadata": {},
   "outputs": [],
   "source": [
    "from pdf2image import convert_from_path\n"
   ]
  },
  {
   "cell_type": "code",
   "execution_count": 2,
   "metadata": {},
   "outputs": [],
   "source": [
    "images = convert_from_path('pdffiles/CLT-RAK.pdf')"
   ]
  },
  {
   "cell_type": "code",
   "execution_count": 3,
   "metadata": {},
   "outputs": [],
   "source": [
    "for i in range(len(images)):\n",
    "    images[i].save('pages/page'+str(i)+'.jpg','JPEG')"
   ]
  },
  {
   "cell_type": "code",
   "execution_count": 4,
   "metadata": {},
   "outputs": [
    {
     "name": "stderr",
     "output_type": "stream",
     "text": [
      "c:\\Users\\Admin\\AppData\\Local\\Programs\\Python\\Python39\\lib\\site-packages\\requests\\__init__.py:102: RequestsDependencyWarning: urllib3 (1.26.13) or chardet (5.1.0)/charset_normalizer (2.0.12) doesn't match a supported version!\n",
      "  warnings.warn(\"urllib3 ({}) or chardet ({})/charset_normalizer ({}) doesn't match a supported \"\n"
     ]
    }
   ],
   "source": [
    "import cv2\n",
    "import layoutparser as lp\n",
    "image = cv2.imread(\"pages/page0.jpg\")\n",
    "image = image[..., ::-1]\n",
    "model = lp.PaddleDetectionLayoutModel(config_path=\"lp://PubLayNet/ppyolov2_r50vd_dcn_365e_publaynet/config\",\n",
    "                                threshold=0.5,\n",
    "                                label_map={0: \"Text\", 1: \"Title\", 2: \"List\", 3:\"Table\", 4:\"Figure\"},\n",
    "                                enforce_cpu=False,\n",
    "                                enable_mkldnn=True)\n",
    "\n",
    "layout = model.detect(image)"
   ]
  },
  {
   "cell_type": "code",
   "execution_count": 5,
   "metadata": {},
   "outputs": [
    {
     "data": {
      "text/plain": [
       "Layout(_blocks=[TextBlock(block=Rectangle(x_1=74.74359130859375, y_1=226.0113525390625, x_2=1538.857666015625, y_2=1983.7681884765625), text=None, id=None, type=Table, parent=None, next=None, score=0.9158181548118591)], page_data={})"
      ]
     },
     "execution_count": 5,
     "metadata": {},
     "output_type": "execute_result"
    }
   ],
   "source": [
    "layout"
   ]
  },
  {
   "cell_type": "code",
   "execution_count": 6,
   "metadata": {},
   "outputs": [],
   "source": [
    "x_1=74.74359130859375, \n",
    "y_1=226.0113525390625, \n",
    "\n",
    "x_2=1538.857666015625, \n",
    "y_2=1983.7681884765625"
   ]
  },
  {
   "cell_type": "code",
   "execution_count": 7,
   "metadata": {},
   "outputs": [
    {
     "name": "stdout",
     "output_type": "stream",
     "text": [
      "TextBlock(block=Rectangle(x_1=74.74359130859375, y_1=226.0113525390625, x_2=1538.857666015625, y_2=1983.7681884765625), text=None, id=None, type=Table, parent=None, next=None, score=0.9158181548118591)\n"
     ]
    }
   ],
   "source": [
    "for l in layout:\n",
    "    if l.type == 'Table':\n",
    "        print(l)"
   ]
  },
  {
   "cell_type": "code",
   "execution_count": 8,
   "metadata": {},
   "outputs": [
    {
     "name": "stdout",
     "output_type": "stream",
     "text": [
      "Rectangle(x_1=74.74359130859375, y_1=226.0113525390625, x_2=1538.857666015625, y_2=1983.7681884765625)\n"
     ]
    }
   ],
   "source": [
    "for l in layout:\n",
    "    if l.type == 'Table':\n",
    "        print(l.block)"
   ]
  },
  {
   "cell_type": "code",
   "execution_count": 12,
   "metadata": {},
   "outputs": [],
   "source": [
    "for l in layout:\n",
    "    if l.type == 'Table':\n",
    "        x_1 = int(l.block.x_1)\n",
    "        y_1 = int(l.block.y_1)\n",
    "        x_2 = int(l.block.x_2)\n",
    "        y_2 =  int(l.block.y_2)\n",
    "        \n",
    "        break\n",
    "    "
   ]
  },
  {
   "cell_type": "code",
   "execution_count": 13,
   "metadata": {},
   "outputs": [
    {
     "name": "stdout",
     "output_type": "stream",
     "text": [
      "74 1538 226 1983\n"
     ]
    }
   ],
   "source": [
    "print(x_1,x_2,y_1,y_2)"
   ]
  },
  {
   "cell_type": "code",
   "execution_count": 11,
   "metadata": {},
   "outputs": [],
   "source": [
    "im = cv2.imread('pages/page0.jpg')"
   ]
  },
  {
   "cell_type": "code",
   "execution_count": 14,
   "metadata": {},
   "outputs": [
    {
     "data": {
      "text/plain": [
       "True"
      ]
     },
     "execution_count": 14,
     "metadata": {},
     "output_type": "execute_result"
    }
   ],
   "source": [
    "cv2.imwrite('ext_im.jpg', im[y_1:y_2,x_1:x_2])"
   ]
  },
  {
   "cell_type": "code",
   "execution_count": null,
   "metadata": {},
   "outputs": [],
   "source": [
    "\n"
   ]
  },
  {
   "cell_type": "code",
   "execution_count": null,
   "metadata": {},
   "outputs": [],
   "source": []
  }
 ],
 "metadata": {
  "kernelspec": {
   "display_name": "Python 3",
   "language": "python",
   "name": "python3"
  },
  "language_info": {
   "codemirror_mode": {
    "name": "ipython",
    "version": 3
   },
   "file_extension": ".py",
   "mimetype": "text/x-python",
   "name": "python",
   "nbconvert_exporter": "python",
   "pygments_lexer": "ipython3",
   "version": "3.9.13"
  },
  "orig_nbformat": 4
 },
 "nbformat": 4,
 "nbformat_minor": 2
}
